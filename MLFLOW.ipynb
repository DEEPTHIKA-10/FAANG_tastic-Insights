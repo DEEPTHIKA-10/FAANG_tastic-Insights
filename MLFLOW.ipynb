{
 "cells": [
  {
   "cell_type": "code",
   "execution_count": 1,
   "metadata": {},
   "outputs": [
    {
     "name": "stdout",
     "output_type": "stream",
     "text": [
      "Requirement already satisfied: mlflow in c:\\users\\kumar\\desktop\\faang_project\\faang\\lib\\site-packages (2.21.0)\n",
      "Requirement already satisfied: mlflow-skinny==2.21.0 in c:\\users\\kumar\\desktop\\faang_project\\faang\\lib\\site-packages (from mlflow) (2.21.0)\n",
      "Requirement already satisfied: Flask<4 in c:\\users\\kumar\\desktop\\faang_project\\faang\\lib\\site-packages (from mlflow) (3.1.0)\n",
      "Requirement already satisfied: Jinja2<4,>=3.0 in c:\\users\\kumar\\desktop\\faang_project\\faang\\lib\\site-packages (from mlflow) (3.1.6)\n",
      "Requirement already satisfied: alembic!=1.10.0,<2 in c:\\users\\kumar\\desktop\\faang_project\\faang\\lib\\site-packages (from mlflow) (1.15.1)\n",
      "Requirement already satisfied: docker<8,>=4.0.0 in c:\\users\\kumar\\desktop\\faang_project\\faang\\lib\\site-packages (from mlflow) (7.1.0)\n",
      "Requirement already satisfied: graphene<4 in c:\\users\\kumar\\desktop\\faang_project\\faang\\lib\\site-packages (from mlflow) (3.4.3)\n",
      "Requirement already satisfied: markdown<4,>=3.3 in c:\\users\\kumar\\desktop\\faang_project\\faang\\lib\\site-packages (from mlflow) (3.7)\n",
      "Requirement already satisfied: matplotlib<4 in c:\\users\\kumar\\desktop\\faang_project\\faang\\lib\\site-packages (from mlflow) (3.10.0)\n",
      "Requirement already satisfied: numpy<3 in c:\\users\\kumar\\desktop\\faang_project\\faang\\lib\\site-packages (from mlflow) (2.2.3)\n",
      "Requirement already satisfied: pandas<3 in c:\\users\\kumar\\desktop\\faang_project\\faang\\lib\\site-packages (from mlflow) (2.2.3)\n",
      "Requirement already satisfied: pyarrow<20,>=4.0.0 in c:\\users\\kumar\\desktop\\faang_project\\faang\\lib\\site-packages (from mlflow) (19.0.1)\n",
      "Requirement already satisfied: scikit-learn<2 in c:\\users\\kumar\\desktop\\faang_project\\faang\\lib\\site-packages (from mlflow) (1.6.1)\n",
      "Requirement already satisfied: scipy<2 in c:\\users\\kumar\\desktop\\faang_project\\faang\\lib\\site-packages (from mlflow) (1.15.2)\n",
      "Requirement already satisfied: sqlalchemy<3,>=1.4.0 in c:\\users\\kumar\\desktop\\faang_project\\faang\\lib\\site-packages (from mlflow) (2.0.39)\n",
      "Requirement already satisfied: waitress<4 in c:\\users\\kumar\\desktop\\faang_project\\faang\\lib\\site-packages (from mlflow) (3.0.2)\n",
      "Requirement already satisfied: cachetools<6,>=5.0.0 in c:\\users\\kumar\\desktop\\faang_project\\faang\\lib\\site-packages (from mlflow-skinny==2.21.0->mlflow) (5.5.2)\n",
      "Requirement already satisfied: click<9,>=7.0 in c:\\users\\kumar\\desktop\\faang_project\\faang\\lib\\site-packages (from mlflow-skinny==2.21.0->mlflow) (8.1.8)\n",
      "Requirement already satisfied: cloudpickle<4 in c:\\users\\kumar\\desktop\\faang_project\\faang\\lib\\site-packages (from mlflow-skinny==2.21.0->mlflow) (3.1.1)\n",
      "Requirement already satisfied: databricks-sdk<1,>=0.20.0 in c:\\users\\kumar\\desktop\\faang_project\\faang\\lib\\site-packages (from mlflow-skinny==2.21.0->mlflow) (0.46.0)\n",
      "Requirement already satisfied: fastapi<1 in c:\\users\\kumar\\desktop\\faang_project\\faang\\lib\\site-packages (from mlflow-skinny==2.21.0->mlflow) (0.115.11)\n",
      "Requirement already satisfied: gitpython<4,>=3.1.9 in c:\\users\\kumar\\desktop\\faang_project\\faang\\lib\\site-packages (from mlflow-skinny==2.21.0->mlflow) (3.1.44)\n",
      "Requirement already satisfied: importlib_metadata!=4.7.0,<9,>=3.7.0 in c:\\users\\kumar\\desktop\\faang_project\\faang\\lib\\site-packages (from mlflow-skinny==2.21.0->mlflow) (8.6.1)\n",
      "Requirement already satisfied: opentelemetry-api<3,>=1.9.0 in c:\\users\\kumar\\desktop\\faang_project\\faang\\lib\\site-packages (from mlflow-skinny==2.21.0->mlflow) (1.31.0)\n",
      "Requirement already satisfied: opentelemetry-sdk<3,>=1.9.0 in c:\\users\\kumar\\desktop\\faang_project\\faang\\lib\\site-packages (from mlflow-skinny==2.21.0->mlflow) (1.31.0)\n",
      "Requirement already satisfied: packaging<25 in c:\\users\\kumar\\desktop\\faang_project\\faang\\lib\\site-packages (from mlflow-skinny==2.21.0->mlflow) (24.2)\n",
      "Requirement already satisfied: protobuf<6,>=3.12.0 in c:\\users\\kumar\\desktop\\faang_project\\faang\\lib\\site-packages (from mlflow-skinny==2.21.0->mlflow) (5.29.3)\n",
      "Requirement already satisfied: pydantic<3,>=1.10.8 in c:\\users\\kumar\\desktop\\faang_project\\faang\\lib\\site-packages (from mlflow-skinny==2.21.0->mlflow) (2.10.6)\n",
      "Requirement already satisfied: pyyaml<7,>=5.1 in c:\\users\\kumar\\desktop\\faang_project\\faang\\lib\\site-packages (from mlflow-skinny==2.21.0->mlflow) (6.0.2)\n",
      "Requirement already satisfied: requests<3,>=2.17.3 in c:\\users\\kumar\\desktop\\faang_project\\faang\\lib\\site-packages (from mlflow-skinny==2.21.0->mlflow) (2.32.3)\n",
      "Requirement already satisfied: sqlparse<1,>=0.4.0 in c:\\users\\kumar\\desktop\\faang_project\\faang\\lib\\site-packages (from mlflow-skinny==2.21.0->mlflow) (0.5.3)\n",
      "Requirement already satisfied: typing-extensions<5,>=4.0.0 in c:\\users\\kumar\\desktop\\faang_project\\faang\\lib\\site-packages (from mlflow-skinny==2.21.0->mlflow) (4.12.2)\n",
      "Requirement already satisfied: uvicorn<1 in c:\\users\\kumar\\desktop\\faang_project\\faang\\lib\\site-packages (from mlflow-skinny==2.21.0->mlflow) (0.34.0)\n",
      "Requirement already satisfied: Mako in c:\\users\\kumar\\desktop\\faang_project\\faang\\lib\\site-packages (from alembic!=1.10.0,<2->mlflow) (1.3.9)\n",
      "Requirement already satisfied: pywin32>=304 in c:\\users\\kumar\\desktop\\faang_project\\faang\\lib\\site-packages (from docker<8,>=4.0.0->mlflow) (308)\n",
      "Requirement already satisfied: urllib3>=1.26.0 in c:\\users\\kumar\\desktop\\faang_project\\faang\\lib\\site-packages (from docker<8,>=4.0.0->mlflow) (2.3.0)\n",
      "Requirement already satisfied: Werkzeug>=3.1 in c:\\users\\kumar\\desktop\\faang_project\\faang\\lib\\site-packages (from Flask<4->mlflow) (3.1.3)\n",
      "Requirement already satisfied: itsdangerous>=2.2 in c:\\users\\kumar\\desktop\\faang_project\\faang\\lib\\site-packages (from Flask<4->mlflow) (2.2.0)\n",
      "Requirement already satisfied: blinker>=1.9 in c:\\users\\kumar\\desktop\\faang_project\\faang\\lib\\site-packages (from Flask<4->mlflow) (1.9.0)\n",
      "Requirement already satisfied: graphql-core<3.3,>=3.1 in c:\\users\\kumar\\desktop\\faang_project\\faang\\lib\\site-packages (from graphene<4->mlflow) (3.2.6)\n",
      "Requirement already satisfied: graphql-relay<3.3,>=3.1 in c:\\users\\kumar\\desktop\\faang_project\\faang\\lib\\site-packages (from graphene<4->mlflow) (3.2.0)\n",
      "Requirement already satisfied: python-dateutil<3,>=2.7.0 in c:\\users\\kumar\\desktop\\faang_project\\faang\\lib\\site-packages (from graphene<4->mlflow) (2.9.0.post0)\n",
      "Requirement already satisfied: MarkupSafe>=2.0 in c:\\users\\kumar\\desktop\\faang_project\\faang\\lib\\site-packages (from Jinja2<4,>=3.0->mlflow) (3.0.2)\n",
      "Requirement already satisfied: contourpy>=1.0.1 in c:\\users\\kumar\\desktop\\faang_project\\faang\\lib\\site-packages (from matplotlib<4->mlflow) (1.3.1)\n",
      "Requirement already satisfied: cycler>=0.10 in c:\\users\\kumar\\desktop\\faang_project\\faang\\lib\\site-packages (from matplotlib<4->mlflow) (0.12.1)\n",
      "Requirement already satisfied: fonttools>=4.22.0 in c:\\users\\kumar\\desktop\\faang_project\\faang\\lib\\site-packages (from matplotlib<4->mlflow) (4.56.0)\n",
      "Requirement already satisfied: kiwisolver>=1.3.1 in c:\\users\\kumar\\desktop\\faang_project\\faang\\lib\\site-packages (from matplotlib<4->mlflow) (1.4.8)\n",
      "Requirement already satisfied: pillow>=8 in c:\\users\\kumar\\desktop\\faang_project\\faang\\lib\\site-packages (from matplotlib<4->mlflow) (11.1.0)\n",
      "Requirement already satisfied: pyparsing>=2.3.1 in c:\\users\\kumar\\desktop\\faang_project\\faang\\lib\\site-packages (from matplotlib<4->mlflow) (3.2.1)\n",
      "Requirement already satisfied: pytz>=2020.1 in c:\\users\\kumar\\desktop\\faang_project\\faang\\lib\\site-packages (from pandas<3->mlflow) (2025.1)\n",
      "Requirement already satisfied: tzdata>=2022.7 in c:\\users\\kumar\\desktop\\faang_project\\faang\\lib\\site-packages (from pandas<3->mlflow) (2025.1)\n",
      "Requirement already satisfied: joblib>=1.2.0 in c:\\users\\kumar\\desktop\\faang_project\\faang\\lib\\site-packages (from scikit-learn<2->mlflow) (1.4.2)\n",
      "Requirement already satisfied: threadpoolctl>=3.1.0 in c:\\users\\kumar\\desktop\\faang_project\\faang\\lib\\site-packages (from scikit-learn<2->mlflow) (3.6.0)\n",
      "Requirement already satisfied: greenlet!=0.4.17 in c:\\users\\kumar\\desktop\\faang_project\\faang\\lib\\site-packages (from sqlalchemy<3,>=1.4.0->mlflow) (3.1.1)\n",
      "Requirement already satisfied: colorama in c:\\users\\kumar\\desktop\\faang_project\\faang\\lib\\site-packages (from click<9,>=7.0->mlflow-skinny==2.21.0->mlflow) (0.4.6)\n",
      "Requirement already satisfied: google-auth~=2.0 in c:\\users\\kumar\\desktop\\faang_project\\faang\\lib\\site-packages (from databricks-sdk<1,>=0.20.0->mlflow-skinny==2.21.0->mlflow) (2.38.0)\n",
      "Requirement already satisfied: starlette<0.47.0,>=0.40.0 in c:\\users\\kumar\\desktop\\faang_project\\faang\\lib\\site-packages (from fastapi<1->mlflow-skinny==2.21.0->mlflow) (0.46.1)\n",
      "Requirement already satisfied: gitdb<5,>=4.0.1 in c:\\users\\kumar\\desktop\\faang_project\\faang\\lib\\site-packages (from gitpython<4,>=3.1.9->mlflow-skinny==2.21.0->mlflow) (4.0.12)\n",
      "Requirement already satisfied: zipp>=3.20 in c:\\users\\kumar\\desktop\\faang_project\\faang\\lib\\site-packages (from importlib_metadata!=4.7.0,<9,>=3.7.0->mlflow-skinny==2.21.0->mlflow) (3.21.0)\n",
      "Requirement already satisfied: deprecated>=1.2.6 in c:\\users\\kumar\\desktop\\faang_project\\faang\\lib\\site-packages (from opentelemetry-api<3,>=1.9.0->mlflow-skinny==2.21.0->mlflow) (1.2.18)\n",
      "Requirement already satisfied: opentelemetry-semantic-conventions==0.52b0 in c:\\users\\kumar\\desktop\\faang_project\\faang\\lib\\site-packages (from opentelemetry-sdk<3,>=1.9.0->mlflow-skinny==2.21.0->mlflow) (0.52b0)\n",
      "Requirement already satisfied: annotated-types>=0.6.0 in c:\\users\\kumar\\desktop\\faang_project\\faang\\lib\\site-packages (from pydantic<3,>=1.10.8->mlflow-skinny==2.21.0->mlflow) (0.7.0)\n",
      "Requirement already satisfied: pydantic-core==2.27.2 in c:\\users\\kumar\\desktop\\faang_project\\faang\\lib\\site-packages (from pydantic<3,>=1.10.8->mlflow-skinny==2.21.0->mlflow) (2.27.2)\n",
      "Requirement already satisfied: six>=1.5 in c:\\users\\kumar\\desktop\\faang_project\\faang\\lib\\site-packages (from python-dateutil<3,>=2.7.0->graphene<4->mlflow) (1.17.0)\n",
      "Requirement already satisfied: charset-normalizer<4,>=2 in c:\\users\\kumar\\desktop\\faang_project\\faang\\lib\\site-packages (from requests<3,>=2.17.3->mlflow-skinny==2.21.0->mlflow) (3.4.1)\n",
      "Requirement already satisfied: idna<4,>=2.5 in c:\\users\\kumar\\desktop\\faang_project\\faang\\lib\\site-packages (from requests<3,>=2.17.3->mlflow-skinny==2.21.0->mlflow) (3.10)\n",
      "Requirement already satisfied: certifi>=2017.4.17 in c:\\users\\kumar\\desktop\\faang_project\\faang\\lib\\site-packages (from requests<3,>=2.17.3->mlflow-skinny==2.21.0->mlflow) (2025.1.31)\n",
      "Requirement already satisfied: h11>=0.8 in c:\\users\\kumar\\desktop\\faang_project\\faang\\lib\\site-packages (from uvicorn<1->mlflow-skinny==2.21.0->mlflow) (0.14.0)\n",
      "Requirement already satisfied: wrapt<2,>=1.10 in c:\\users\\kumar\\desktop\\faang_project\\faang\\lib\\site-packages (from deprecated>=1.2.6->opentelemetry-api<3,>=1.9.0->mlflow-skinny==2.21.0->mlflow) (1.17.2)\n",
      "Requirement already satisfied: smmap<6,>=3.0.1 in c:\\users\\kumar\\desktop\\faang_project\\faang\\lib\\site-packages (from gitdb<5,>=4.0.1->gitpython<4,>=3.1.9->mlflow-skinny==2.21.0->mlflow) (5.0.2)\n",
      "Requirement already satisfied: pyasn1-modules>=0.2.1 in c:\\users\\kumar\\desktop\\faang_project\\faang\\lib\\site-packages (from google-auth~=2.0->databricks-sdk<1,>=0.20.0->mlflow-skinny==2.21.0->mlflow) (0.4.1)\n",
      "Requirement already satisfied: rsa<5,>=3.1.4 in c:\\users\\kumar\\desktop\\faang_project\\faang\\lib\\site-packages (from google-auth~=2.0->databricks-sdk<1,>=0.20.0->mlflow-skinny==2.21.0->mlflow) (4.9)\n",
      "Requirement already satisfied: anyio<5,>=3.6.2 in c:\\users\\kumar\\desktop\\faang_project\\faang\\lib\\site-packages (from starlette<0.47.0,>=0.40.0->fastapi<1->mlflow-skinny==2.21.0->mlflow) (4.8.0)\n",
      "Requirement already satisfied: sniffio>=1.1 in c:\\users\\kumar\\desktop\\faang_project\\faang\\lib\\site-packages (from anyio<5,>=3.6.2->starlette<0.47.0,>=0.40.0->fastapi<1->mlflow-skinny==2.21.0->mlflow) (1.3.1)\n",
      "Requirement already satisfied: pyasn1<0.7.0,>=0.4.6 in c:\\users\\kumar\\desktop\\faang_project\\faang\\lib\\site-packages (from pyasn1-modules>=0.2.1->google-auth~=2.0->databricks-sdk<1,>=0.20.0->mlflow-skinny==2.21.0->mlflow) (0.6.1)\n"
     ]
    },
    {
     "name": "stderr",
     "output_type": "stream",
     "text": [
      "\n",
      "[notice] A new release of pip is available: 24.3.1 -> 25.0.1\n",
      "[notice] To update, run: python.exe -m pip install --upgrade pip\n"
     ]
    }
   ],
   "source": [
    "!pip install mlflow"
   ]
  },
  {
   "cell_type": "code",
   "execution_count": 2,
   "metadata": {},
   "outputs": [],
   "source": [
    "import mlflow\n",
    "import mlflow.sklearn\n",
    "import mlflow.xgboost\n",
    "import pandas as pd\n",
    "import numpy as np"
   ]
  },
  {
   "cell_type": "code",
   "execution_count": 3,
   "metadata": {},
   "outputs": [
    {
     "data": {
      "text/html": [
       "<div>\n",
       "<style scoped>\n",
       "    .dataframe tbody tr th:only-of-type {\n",
       "        vertical-align: middle;\n",
       "    }\n",
       "\n",
       "    .dataframe tbody tr th {\n",
       "        vertical-align: top;\n",
       "    }\n",
       "\n",
       "    .dataframe thead th {\n",
       "        text-align: right;\n",
       "    }\n",
       "</style>\n",
       "<table border=\"1\" class=\"dataframe\">\n",
       "  <thead>\n",
       "    <tr style=\"text-align: right;\">\n",
       "      <th></th>\n",
       "      <th>Open</th>\n",
       "      <th>High</th>\n",
       "      <th>Low</th>\n",
       "      <th>Close</th>\n",
       "      <th>Volume</th>\n",
       "      <th>Market Cap</th>\n",
       "      <th>PE Ratio</th>\n",
       "      <th>EPS</th>\n",
       "      <th>Debt to Equity</th>\n",
       "      <th>Price to Book Ratio</th>\n",
       "      <th>Apple</th>\n",
       "      <th>Facebook</th>\n",
       "      <th>Google</th>\n",
       "      <th>Amazon</th>\n",
       "      <th>Netflix</th>\n",
       "    </tr>\n",
       "  </thead>\n",
       "  <tbody>\n",
       "    <tr>\n",
       "      <th>0</th>\n",
       "      <td>1.156786</td>\n",
       "      <td>1.162679</td>\n",
       "      <td>1.117857</td>\n",
       "      <td>1.130179</td>\n",
       "      <td>293751500</td>\n",
       "      <td>3</td>\n",
       "      <td>2</td>\n",
       "      <td>3</td>\n",
       "      <td>0</td>\n",
       "      <td>1</td>\n",
       "      <td>0</td>\n",
       "      <td>1</td>\n",
       "      <td>0</td>\n",
       "      <td>0</td>\n",
       "      <td>0</td>\n",
       "    </tr>\n",
       "    <tr>\n",
       "      <th>1</th>\n",
       "      <td>1.139107</td>\n",
       "      <td>1.169107</td>\n",
       "      <td>1.124464</td>\n",
       "      <td>1.141786</td>\n",
       "      <td>293751500</td>\n",
       "      <td>3</td>\n",
       "      <td>2</td>\n",
       "      <td>3</td>\n",
       "      <td>0</td>\n",
       "      <td>1</td>\n",
       "      <td>0</td>\n",
       "      <td>1</td>\n",
       "      <td>0</td>\n",
       "      <td>0</td>\n",
       "      <td>0</td>\n",
       "    </tr>\n",
       "    <tr>\n",
       "      <th>2</th>\n",
       "      <td>1.151071</td>\n",
       "      <td>1.165179</td>\n",
       "      <td>1.143750</td>\n",
       "      <td>1.151786</td>\n",
       "      <td>293751500</td>\n",
       "      <td>3</td>\n",
       "      <td>2</td>\n",
       "      <td>3</td>\n",
       "      <td>0</td>\n",
       "      <td>1</td>\n",
       "      <td>0</td>\n",
       "      <td>1</td>\n",
       "      <td>0</td>\n",
       "      <td>0</td>\n",
       "      <td>0</td>\n",
       "    </tr>\n",
       "    <tr>\n",
       "      <th>3</th>\n",
       "      <td>1.154821</td>\n",
       "      <td>1.159107</td>\n",
       "      <td>1.130893</td>\n",
       "      <td>1.152679</td>\n",
       "      <td>293751500</td>\n",
       "      <td>3</td>\n",
       "      <td>2</td>\n",
       "      <td>3</td>\n",
       "      <td>0</td>\n",
       "      <td>1</td>\n",
       "      <td>0</td>\n",
       "      <td>1</td>\n",
       "      <td>0</td>\n",
       "      <td>0</td>\n",
       "      <td>0</td>\n",
       "    </tr>\n",
       "    <tr>\n",
       "      <th>4</th>\n",
       "      <td>1.160714</td>\n",
       "      <td>1.243393</td>\n",
       "      <td>1.156250</td>\n",
       "      <td>1.236607</td>\n",
       "      <td>293751500</td>\n",
       "      <td>3</td>\n",
       "      <td>2</td>\n",
       "      <td>3</td>\n",
       "      <td>0</td>\n",
       "      <td>1</td>\n",
       "      <td>0</td>\n",
       "      <td>1</td>\n",
       "      <td>0</td>\n",
       "      <td>0</td>\n",
       "      <td>0</td>\n",
       "    </tr>\n",
       "    <tr>\n",
       "      <th>...</th>\n",
       "      <td>...</td>\n",
       "      <td>...</td>\n",
       "      <td>...</td>\n",
       "      <td>...</td>\n",
       "      <td>...</td>\n",
       "      <td>...</td>\n",
       "      <td>...</td>\n",
       "      <td>...</td>\n",
       "      <td>...</td>\n",
       "      <td>...</td>\n",
       "      <td>...</td>\n",
       "      <td>...</td>\n",
       "      <td>...</td>\n",
       "      <td>...</td>\n",
       "      <td>...</td>\n",
       "    </tr>\n",
       "    <tr>\n",
       "      <th>23050</th>\n",
       "      <td>319.531527</td>\n",
       "      <td>323.578279</td>\n",
       "      <td>316.243249</td>\n",
       "      <td>319.843610</td>\n",
       "      <td>2299500</td>\n",
       "      <td>4</td>\n",
       "      <td>3</td>\n",
       "      <td>0</td>\n",
       "      <td>3</td>\n",
       "      <td>0</td>\n",
       "      <td>0</td>\n",
       "      <td>0</td>\n",
       "      <td>0</td>\n",
       "      <td>0</td>\n",
       "      <td>1</td>\n",
       "    </tr>\n",
       "    <tr>\n",
       "      <th>23051</th>\n",
       "      <td>319.531527</td>\n",
       "      <td>323.578279</td>\n",
       "      <td>316.243249</td>\n",
       "      <td>319.843610</td>\n",
       "      <td>2797100</td>\n",
       "      <td>4</td>\n",
       "      <td>3</td>\n",
       "      <td>0</td>\n",
       "      <td>3</td>\n",
       "      <td>0</td>\n",
       "      <td>0</td>\n",
       "      <td>0</td>\n",
       "      <td>0</td>\n",
       "      <td>0</td>\n",
       "      <td>1</td>\n",
       "    </tr>\n",
       "    <tr>\n",
       "      <th>23052</th>\n",
       "      <td>319.531527</td>\n",
       "      <td>323.578279</td>\n",
       "      <td>316.243249</td>\n",
       "      <td>319.843610</td>\n",
       "      <td>2932800</td>\n",
       "      <td>4</td>\n",
       "      <td>3</td>\n",
       "      <td>0</td>\n",
       "      <td>3</td>\n",
       "      <td>0</td>\n",
       "      <td>0</td>\n",
       "      <td>0</td>\n",
       "      <td>0</td>\n",
       "      <td>0</td>\n",
       "      <td>1</td>\n",
       "    </tr>\n",
       "    <tr>\n",
       "      <th>23053</th>\n",
       "      <td>319.531527</td>\n",
       "      <td>323.578279</td>\n",
       "      <td>316.243249</td>\n",
       "      <td>319.843610</td>\n",
       "      <td>2494300</td>\n",
       "      <td>4</td>\n",
       "      <td>3</td>\n",
       "      <td>0</td>\n",
       "      <td>3</td>\n",
       "      <td>0</td>\n",
       "      <td>0</td>\n",
       "      <td>0</td>\n",
       "      <td>0</td>\n",
       "      <td>0</td>\n",
       "      <td>1</td>\n",
       "    </tr>\n",
       "    <tr>\n",
       "      <th>23054</th>\n",
       "      <td>319.531527</td>\n",
       "      <td>323.578279</td>\n",
       "      <td>316.243249</td>\n",
       "      <td>319.843610</td>\n",
       "      <td>8820000</td>\n",
       "      <td>4</td>\n",
       "      <td>3</td>\n",
       "      <td>0</td>\n",
       "      <td>3</td>\n",
       "      <td>0</td>\n",
       "      <td>0</td>\n",
       "      <td>0</td>\n",
       "      <td>0</td>\n",
       "      <td>0</td>\n",
       "      <td>1</td>\n",
       "    </tr>\n",
       "  </tbody>\n",
       "</table>\n",
       "<p>23055 rows × 15 columns</p>\n",
       "</div>"
      ],
      "text/plain": [
       "             Open        High         Low       Close     Volume  Market Cap  \\\n",
       "0        1.156786    1.162679    1.117857    1.130179  293751500           3   \n",
       "1        1.139107    1.169107    1.124464    1.141786  293751500           3   \n",
       "2        1.151071    1.165179    1.143750    1.151786  293751500           3   \n",
       "3        1.154821    1.159107    1.130893    1.152679  293751500           3   \n",
       "4        1.160714    1.243393    1.156250    1.236607  293751500           3   \n",
       "...           ...         ...         ...         ...        ...         ...   \n",
       "23050  319.531527  323.578279  316.243249  319.843610    2299500           4   \n",
       "23051  319.531527  323.578279  316.243249  319.843610    2797100           4   \n",
       "23052  319.531527  323.578279  316.243249  319.843610    2932800           4   \n",
       "23053  319.531527  323.578279  316.243249  319.843610    2494300           4   \n",
       "23054  319.531527  323.578279  316.243249  319.843610    8820000           4   \n",
       "\n",
       "       PE Ratio  EPS  Debt to Equity  Price to Book Ratio  Apple  Facebook  \\\n",
       "0             2    3               0                    1      0         1   \n",
       "1             2    3               0                    1      0         1   \n",
       "2             2    3               0                    1      0         1   \n",
       "3             2    3               0                    1      0         1   \n",
       "4             2    3               0                    1      0         1   \n",
       "...         ...  ...             ...                  ...    ...       ...   \n",
       "23050         3    0               3                    0      0         0   \n",
       "23051         3    0               3                    0      0         0   \n",
       "23052         3    0               3                    0      0         0   \n",
       "23053         3    0               3                    0      0         0   \n",
       "23054         3    0               3                    0      0         0   \n",
       "\n",
       "       Google  Amazon  Netflix  \n",
       "0           0       0        0  \n",
       "1           0       0        0  \n",
       "2           0       0        0  \n",
       "3           0       0        0  \n",
       "4           0       0        0  \n",
       "...       ...     ...      ...  \n",
       "23050       0       0        1  \n",
       "23051       0       0        1  \n",
       "23052       0       0        1  \n",
       "23053       0       0        1  \n",
       "23054       0       0        1  \n",
       "\n",
       "[23055 rows x 15 columns]"
      ]
     },
     "execution_count": 3,
     "metadata": {},
     "output_type": "execute_result"
    }
   ],
   "source": [
    "df=pd.read_csv(r\"C:\\Users\\kumar\\Desktop\\FAANG_PROJECT\\FAANG - FAANG5.csv\")\n",
    "df"
   ]
  },
  {
   "cell_type": "code",
   "execution_count": 4,
   "metadata": {},
   "outputs": [],
   "source": [
    "# Test-Train Split\n",
    "from sklearn.model_selection import train_test_split\n",
    "\n",
    "X = df.drop('Close', axis=1)\n",
    "y = df['Close']\n",
    "\n",
    "X_train, X_test, y_train, y_test = train_test_split(X, y, test_size=0.2, random_state=42)"
   ]
  },
  {
   "cell_type": "code",
   "execution_count": 5,
   "metadata": {},
   "outputs": [],
   "source": [
    "# Standard Scaler\n",
    "from sklearn.preprocessing import StandardScaler\n",
    "\n",
    "scaler = StandardScaler()\n",
    "X_train = scaler.fit_transform(X_train)\n",
    "X_test = scaler.transform(X_test)"
   ]
  },
  {
   "cell_type": "code",
   "execution_count": 6,
   "metadata": {},
   "outputs": [
    {
     "name": "stdout",
     "output_type": "stream",
     "text": [
      "Requirement already satisfied: xgboost in c:\\users\\kumar\\desktop\\faang_project\\faang\\lib\\site-packages (2.1.4)\n",
      "Requirement already satisfied: numpy in c:\\users\\kumar\\desktop\\faang_project\\faang\\lib\\site-packages (from xgboost) (2.2.3)\n",
      "Requirement already satisfied: scipy in c:\\users\\kumar\\desktop\\faang_project\\faang\\lib\\site-packages (from xgboost) (1.15.2)\n"
     ]
    },
    {
     "name": "stderr",
     "output_type": "stream",
     "text": [
      "\n",
      "[notice] A new release of pip is available: 24.3.1 -> 25.0.1\n",
      "[notice] To update, run: python.exe -m pip install --upgrade pip\n"
     ]
    }
   ],
   "source": [
    "!pip install xgboost\n"
   ]
  },
  {
   "cell_type": "code",
   "execution_count": 7,
   "metadata": {},
   "outputs": [],
   "source": [
    "from sklearn.linear_model import LinearRegression\n",
    "from sklearn.tree import DecisionTreeRegressor\n",
    "from sklearn.ensemble import RandomForestRegressor\n",
    "from xgboost import XGBRegressor\n",
    "from sklearn.metrics import r2_score, mean_squared_error, mean_absolute_error"
   ]
  },
  {
   "cell_type": "code",
   "execution_count": 8,
   "metadata": {},
   "outputs": [],
   "source": [
    "models = [\n",
    "(\"Linear Regressor\", LinearRegression()),\n",
    "(\"Decision Tree Regressor\", DecisionTreeRegressor()),\n",
    "(\"Random Forest Regressor\", RandomForestRegressor()),\n",
    "(\"XGBoost Regressor\", XGBRegressor())\n",
    "]"
   ]
  },
  {
   "cell_type": "code",
   "execution_count": 9,
   "metadata": {},
   "outputs": [],
   "source": [
    "reports = []\n",
    "\n",
    "for name, model in models:\n",
    "    model.fit(X_train, y_train)\n",
    "    y_pred = model.predict(X_test)\n",
    "    r2 = r2_score(y_test, y_pred)\n",
    "    rmse = mean_squared_error(y_test, y_pred)\n",
    "    mae = mean_absolute_error(y_test, y_pred)\n",
    "    reports.append((name, model, rmse, mae, r2))   "
   ]
  },
  {
   "cell_type": "code",
   "execution_count": 10,
   "metadata": {},
   "outputs": [
    {
     "name": "stdout",
     "output_type": "stream",
     "text": [
      "Model: Linear Regressor\n",
      "RMSE: 0.5842477661994834\n",
      "MAE: 0.35700672102228503\n",
      "R2: 0.9999327529095073\n",
      "\n",
      "\n",
      "Model: Decision Tree Regressor\n",
      "RMSE: 1.2084889657832205\n",
      "MAE: 0.4921546083553731\n",
      "R2: 0.9998609025630171\n",
      "\n",
      "\n",
      "Model: Random Forest Regressor\n",
      "RMSE: 0.7613689815683902\n",
      "MAE: 0.39158466778811934\n",
      "R2: 0.9999123662052919\n",
      "\n",
      "\n",
      "Model: XGBoost Regressor\n",
      "RMSE: 1.2047963602788145\n",
      "MAE: 0.5253679162668139\n",
      "R2: 0.9998613275830015\n",
      "\n",
      "\n"
     ]
    }
   ],
   "source": [
    "for name, model, rmse, mae, r2 in reports:\n",
    "    print(f\"Model: {name}\")\n",
    "    print(f\"RMSE: {rmse}\")\n",
    "    print(f\"MAE: {mae}\")\n",
    "    print(f\"R2: {r2}\")\n",
    "    print(\"\\n\")"
   ]
  },
  {
   "cell_type": "code",
   "execution_count": 11,
   "metadata": {},
   "outputs": [
    {
     "name": "stderr",
     "output_type": "stream",
     "text": [
      "2025/03/16 14:17:14 INFO mlflow.tracking.fluent: Experiment with name 'FAANG Stock Closing Price Prediction' does not exist. Creating a new experiment.\n",
      "2025/03/16 14:17:14 WARNING mlflow.utils.git_utils: Failed to import Git (the Git executable is probably not on your PATH), so Git SHA is not available. Error: Failed to initialize: Bad git executable.\n",
      "The git executable must be specified in one of the following ways:\n",
      "    - be included in your $PATH\n",
      "    - be set via $GIT_PYTHON_GIT_EXECUTABLE\n",
      "    - explicitly set via git.refresh(<full-path-to-git-executable>)\n",
      "\n",
      "All git commands will error until this is rectified.\n",
      "\n",
      "This initial message can be silenced or aggravated in the future by setting the\n",
      "$GIT_PYTHON_REFRESH environment variable. Use one of the following values:\n",
      "    - quiet|q|silence|s|silent|none|n|0: for no message or exception\n",
      "    - warn|w|warning|log|l|1: for a warning message (logging level CRITICAL, displayed by default)\n",
      "    - error|e|exception|raise|r|2: for a raised exception\n",
      "\n",
      "Example:\n",
      "    export GIT_PYTHON_REFRESH=quiet\n",
      "\n",
      "2025/03/16 14:17:24 WARNING mlflow.models.model: Model logged without a signature and input example. Please set `input_example` parameter when logging the model to auto infer the model signature.\n"
     ]
    },
    {
     "name": "stdout",
     "output_type": "stream",
     "text": [
      "🏃 View run Linear Regressor at: http://127.0.0.1:5000/#/experiments/202491072935989772/runs/8d77bdd794ef4cb88ae40402ac19e005\n",
      "🧪 View experiment at: http://127.0.0.1:5000/#/experiments/202491072935989772\n"
     ]
    },
    {
     "name": "stderr",
     "output_type": "stream",
     "text": [
      "2025/03/16 14:17:31 WARNING mlflow.models.model: Model logged without a signature and input example. Please set `input_example` parameter when logging the model to auto infer the model signature.\n"
     ]
    },
    {
     "name": "stdout",
     "output_type": "stream",
     "text": [
      "🏃 View run Decision Tree Regressor at: http://127.0.0.1:5000/#/experiments/202491072935989772/runs/149284c96a814e5aa92f30154afb1305\n",
      "🧪 View experiment at: http://127.0.0.1:5000/#/experiments/202491072935989772\n"
     ]
    },
    {
     "name": "stderr",
     "output_type": "stream",
     "text": [
      "2025/03/16 14:17:41 WARNING mlflow.models.model: Model logged without a signature and input example. Please set `input_example` parameter when logging the model to auto infer the model signature.\n"
     ]
    },
    {
     "name": "stdout",
     "output_type": "stream",
     "text": [
      "🏃 View run Random Forest Regressor at: http://127.0.0.1:5000/#/experiments/202491072935989772/runs/8ed1bc6e59e349fb9627a2602ed2fac1\n",
      "🧪 View experiment at: http://127.0.0.1:5000/#/experiments/202491072935989772\n"
     ]
    },
    {
     "name": "stderr",
     "output_type": "stream",
     "text": [
      "c:\\Users\\kumar\\Desktop\\FAANG_PROJECT\\faang\\Lib\\site-packages\\xgboost\\core.py:158: UserWarning: [14:17:43] WARNING: C:\\buildkite-agent\\builds\\buildkite-windows-cpu-autoscaling-group-i-08cbc0333d8d4aae1-1\\xgboost\\xgboost-ci-windows\\src\\c_api\\c_api.cc:1374: Saving model in the UBJSON format as default.  You can use file extension: `json`, `ubj` or `deprecated` to choose between formats.\n",
      "  warnings.warn(smsg, UserWarning)\n",
      "2025/03/16 14:17:52 WARNING mlflow.models.model: Model logged without a signature and input example. Please set `input_example` parameter when logging the model to auto infer the model signature.\n"
     ]
    },
    {
     "name": "stdout",
     "output_type": "stream",
     "text": [
      "🏃 View run XGBoost Regressor at: http://127.0.0.1:5000/#/experiments/202491072935989772/runs/6f5660453478466db53ec04ca40c5187\n",
      "🧪 View experiment at: http://127.0.0.1:5000/#/experiments/202491072935989772\n"
     ]
    }
   ],
   "source": [
    "mlflow.set_tracking_uri(\"http://127.0.0.1:5000\")\n",
    "mlflow.set_experiment(\"FAANG Stock Closing Price Prediction\")\n",
    "\n",
    "for name, model, rmse, mae, r2 in reports:\n",
    "    with mlflow.start_run(run_name=name) as run:\n",
    "        mlflow.log_metric(\"RMSE\", rmse)\n",
    "        mlflow.log_metric(\"MAE\", mae)\n",
    "        mlflow.log_metric(\"R2\", r2)\n",
    "        \n",
    "        if name == \"Linear Regressor\":\n",
    "            mlflow.sklearn.log_model(model, \"LR_model\")\n",
    "        elif name == \"Decision Tree Regressor\":\n",
    "            mlflow.sklearn.log_model(model, \"DT_model\")\n",
    "        elif name == \"Random Forest Regressor\":\n",
    "            mlflow.sklearn.log_model(model, \"RF_model\")\n",
    "        elif name == \"XGBoost Regressor\":\n",
    "            mlflow.xgboost.log_model(model, \"XGB_model\")"
   ]
  },
  {
   "cell_type": "code",
   "execution_count": 16,
   "metadata": {},
   "outputs": [
    {
     "data": {
      "text/plain": [
       "'runs:/4e819e8c78184348af5886df86acceba/RF_model'"
      ]
     },
     "execution_count": 16,
     "metadata": {},
     "output_type": "execute_result"
    }
   ],
   "source": [
    "model_uri"
   ]
  },
  {
   "cell_type": "code",
   "execution_count": 18,
   "metadata": {},
   "outputs": [
    {
     "name": "stdout",
     "output_type": "stream",
     "text": [
      "                             run_id    status\n",
      "0  6f5660453478466db53ec04ca40c5187  FINISHED\n",
      "1  8ed1bc6e59e349fb9627a2602ed2fac1  FINISHED\n",
      "2  149284c96a814e5aa92f30154afb1305  FINISHED\n",
      "3  8d77bdd794ef4cb88ae40402ac19e005  FINISHED\n"
     ]
    }
   ],
   "source": [
    "import mlflow\n",
    "\n",
    "experiment_id = \"202491072935989772\"  # Replace with your actual experiment ID\n",
    "runs = mlflow.search_runs(experiment_ids=[experiment_id])\n",
    "print(runs[['run_id', 'status']])\n"
   ]
  },
  {
   "cell_type": "code",
   "execution_count": 19,
   "metadata": {},
   "outputs": [
    {
     "name": "stderr",
     "output_type": "stream",
     "text": [
      "Successfully registered model 'Random Forest Regressor'.\n",
      "2025/03/16 14:38:34 INFO mlflow.store.model_registry.abstract_store: Waiting up to 300 seconds for model version to finish creation. Model name: Random Forest Regressor, version 1\n"
     ]
    },
    {
     "name": "stdout",
     "output_type": "stream",
     "text": [
      "🏃 View run Random Forest Regressor at: http://127.0.0.1:5000/#/experiments/202491072935989772/runs/8ed1bc6e59e349fb9627a2602ed2fac1\n",
      "🧪 View experiment at: http://127.0.0.1:5000/#/experiments/202491072935989772\n"
     ]
    },
    {
     "name": "stderr",
     "output_type": "stream",
     "text": [
      "Created version '1' of model 'Random Forest Regressor'.\n"
     ]
    }
   ],
   "source": [
    "model_name ='Random Forest Regressor'\n",
    "run_id = '8ed1bc6e59e349fb9627a2602ed2fac1'\n",
    "model_uri = f'runs:/{run_id}/RF_model'\n",
    "\n",
    "with mlflow.start_run(run_id=run_id):\n",
    "    mlflow.register_model(model_uri= model_uri , name= model_name)"
   ]
  },
  {
   "cell_type": "code",
   "execution_count": 20,
   "metadata": {},
   "outputs": [],
   "source": [
    "import pickle\n",
    "\n",
    "with open(\"standard_scaler.pkl\", \"wb\") as s:\n",
    "    pickle.dump(scaler, s)"
   ]
  }
 ],
 "metadata": {
  "kernelspec": {
   "display_name": "faang",
   "language": "python",
   "name": "python3"
  },
  "language_info": {
   "codemirror_mode": {
    "name": "ipython",
    "version": 3
   },
   "file_extension": ".py",
   "mimetype": "text/x-python",
   "name": "python",
   "nbconvert_exporter": "python",
   "pygments_lexer": "ipython3",
   "version": "3.13.0"
  }
 },
 "nbformat": 4,
 "nbformat_minor": 2
}
